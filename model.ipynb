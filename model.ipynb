{
 "cells": [
  {
   "cell_type": "code",
   "execution_count": 1,
   "metadata": {},
   "outputs": [],
   "source": [
    "import pandas as pd\n",
    "import matplotlib.pyplot as plt\n",
    "import seaborn as sns\n",
    "\n",
    "from scipy.stats.mstats import winsorize\n",
    "from scipy import optimize\n",
    "from sklearn import preprocessing\n",
    "#from sklearn.preprocessing import PolynomialFeatures\n",
    "from sklearn.model_selection import train_test_split\n",
    "from sklearn.linear_model import LogisticRegression\n",
    "from sklearn.metrics import f1_score\n",
    "\n",
    "from datetime import datetime, date, time"
   ]
  },
  {
   "cell_type": "code",
   "execution_count": 2,
   "metadata": {},
   "outputs": [],
   "source": [
    "# seconds between two datetime\n",
    "def date_diff(dInit, dFin):\n",
    "    return (datetime.fromisoformat(dFin) - datetime.fromisoformat(dInit)).total_seconds()\n",
    "\n",
    "# days between two datetime. does not consider specific time\n",
    "def date_diff_days(dInit, dFin):\n",
    "    return ((datetime.fromisoformat(dFin)).date() - (datetime.fromisoformat(dInit)).date() ).days\n",
    "\n",
    "# week day (Mon-Sun, 0-6)\n",
    "def date_weekday(date):\n",
    "    return datetime.fromisoformat(date).weekday()\n",
    "\n",
    "# only the hours not minutes and seconds\n",
    "def date_hour(date):\n",
    "    return datetime.fromisoformat(date).hour\n",
    "\n",
    "# how many times each hashed code is in the dataframe\n",
    "def hash_to_occurrences(dataframe, column):\n",
    "    dic = (dataframe[column].value_counts()).to_dict()\n",
    "    return dataframe[column].map(dic, na_action=\"ignore\")\n",
    "\n",
    "# for each feature in dataframe, print num of unique elements, num of duplicates not NaN, num of NaN\n",
    "def information(data):\n",
    "    \n",
    "    print(\"{0:30} {1:13} {2:10} {3:15}\".format (\"Column\", \"len(set(el))\", \"len(duplicates \", \"len(nulls)\"))\n",
    "    print(\"{0:30} {1:13} {2:10} {3:15}\".format (\"      \", \"            \", \"      non-null)\", \"          \"))\n",
    "    print(\"{0:30} {1:13} {2:10} {3:15}\".format (\"------\", \"------------\", \"---------------\", \"----------\"))\n",
    "\n",
    "    for i, e in enumerate(data.columns):\n",
    "        lst = data[e]\n",
    "        el_set = set()\n",
    "        el_duplicates_n = 0\n",
    "        el_null_n = 0\n",
    "\n",
    "        for x in lst:\n",
    "            if pd.isnull(x):\n",
    "                el_null_n += 1\n",
    "            else:\n",
    "                if x in el_set:\n",
    "                    el_duplicates_n += 1\n",
    "                else:\n",
    "                    el_set.add(x)\n",
    "\n",
    "        print(\"{0:30} {1:13} {2:10} {3:15}\".format (e, len(el_set), el_duplicates_n, el_null_n))\n",
    "\n",
    "#TODO change name with bigger_than_threshold        \n",
    "def predict_with_threshold(p, thresh):\n",
    "    if p >= thresh:\n",
    "        return 1\n",
    "    else:\n",
    "        return 0\n",
    "        \n",
    "# given a model, X and a threshold, return Y \n",
    "def predicted_y_with_threshold(model, X_cross_val, thresh):\n",
    "    predicted_y_prob = model.predict_proba(X_cross_val)\n",
    "    predicted_y_prob_1 = predicted_y_prob[:,1]\n",
    "    thresh_vec = [thresh]*len(predicted_y_prob_1)\n",
    "    return list(map(predict_with_threshold, predicted_y_prob_1, thresh_vec))\n",
    "\n",
    "\n",
    "# given c_th = (c, threshold) fit a LogisticRegression on train set \n",
    "#     then return corresponding F1 score for cross validation set\n",
    "#TODO do not hardcode LogisticRegression, do not use global variables (X, Y)_(train, cross_val)\n",
    "def f1_score_neg(c_th):\n",
    "    model = LogisticRegression(class_weight=\"balanced\", C=c_th[0])\n",
    "    model.fit(X_train, Y_train)\n",
    "    Y_pred = predicted_y_with_threshold(model, X_cross_val,c_th[1])\n",
    "    f1_neg = -1 * f1_score(Y_cross_val, Y_pred)\n",
    "    return f1_neg\n",
    "\n",
    "# given c_th = (c, threshold) fit a LogisticRegression on train set \n",
    "#     then return a _modified_ F1 score for cross validation set\n",
    "#TODO do not use global variables\n",
    "def f1_score_neg_mod_th(c_th):\n",
    "    model = LogisticRegression(class_weight=\"balanced\", C=c_th[0])\n",
    "    model.fit(X_train, Y_train)\n",
    "    Y_pred = predicted_y_with_threshold(model, X_cross_val,c_th[1])\n",
    "    Y_pred_series = pd.Series(list(Y_pred))\n",
    "    \n",
    "    f1_mod_neg = -1*f1_mod(Y_cross_val_series, Y_pred_series)\n",
    "    return f1_mod_neg\n",
    "\n",
    "\n",
    "#modified F1_score for cross validation set\n",
    "def f1_mod(Y_cross_val_series, Y_pred_series):\n",
    "    \n",
    "    tp = ((Y_pred_series == 1) & (Y_cross_val_series == 1)).sum() \n",
    "    fp = ((Y_pred_series == 1) & (Y_cross_val_series == 0)).sum()\n",
    "    fn = ((Y_pred_series == 0) & (Y_cross_val_series == 1)).sum() \n",
    "    \n",
    "    precision = tp/(tp+fp)\n",
    "    recall_mod = (tp/(tp+fn))**(4)\n",
    "\n",
    "    f1_mod = 2*precision*recall_mod/(precision+recall_mod)\n",
    "    return f1_mod\n",
    "    "
   ]
  },
  {
   "cell_type": "raw",
   "metadata": {
    "jupyter": {
     "outputs_hidden": true
    }
   },
   "source": [
    "# Read excel file and convert to csv. csv is faster to read\n",
    "excel_file = pd.read_excel (\"sample_dataset_data_scientist.xlsx\")\n",
    "excel_file.to_csv(\"sample_dataset_data_scientist.csv\",header=True)"
   ]
  },
  {
   "cell_type": "code",
   "execution_count": 3,
   "metadata": {},
   "outputs": [],
   "source": [
    "dataset = pd.read_csv(\"sample_dataset_data_scientist.csv\")"
   ]
  },
  {
   "cell_type": "code",
   "execution_count": 4,
   "metadata": {},
   "outputs": [],
   "source": [
    "data = dataset.copy()"
   ]
  },
  {
   "cell_type": "code",
   "execution_count": 5,
   "metadata": {},
   "outputs": [
    {
     "name": "stdout",
     "output_type": "stream",
     "text": [
      "<class 'pandas.core.frame.DataFrame'>\n",
      "RangeIndex: 202389 entries, 0 to 202388\n",
      "Data columns (total 19 columns):\n",
      " #   Column                Non-Null Count   Dtype  \n",
      "---  ------                --------------   -----  \n",
      " 0   Transaction_Id        202389 non-null  int64  \n",
      " 1   Merchant_Id           202389 non-null  int64  \n",
      " 2   TxnInitTime           202389 non-null  object \n",
      " 3   TxnCompleteTime       202389 non-null  object \n",
      " 4   ClientIP              202389 non-null  object \n",
      " 5   User_Id               202389 non-null  object \n",
      " 6   CountryCode           202389 non-null  int64  \n",
      " 7   Price                 202389 non-null  float64\n",
      " 8   ChannelType           202389 non-null  int64  \n",
      " 9   Alpha2Code            202389 non-null  object \n",
      " 10  GeoIpCountry          202009 non-null  object \n",
      " 11  UserAgent             202389 non-null  object \n",
      " 12  Email_Id              101668 non-null  object \n",
      " 13  FirstTransactionDate  202389 non-null  object \n",
      " 14  UniquePaymentChannel  202389 non-null  int64  \n",
      " 15  FirstEmailDate        99627 non-null   object \n",
      " 16  Flag                  202389 non-null  int64  \n",
      " 17  PaymentChannel        202389 non-null  object \n",
      " 18  ItemName              202389 non-null  object \n",
      "dtypes: float64(1), int64(6), object(12)\n",
      "memory usage: 29.3+ MB\n",
      "None\n"
     ]
    }
   ],
   "source": [
    "print(data.info())"
   ]
  },
  {
   "cell_type": "code",
   "execution_count": 6,
   "metadata": {},
   "outputs": [
    {
     "name": "stdout",
     "output_type": "stream",
     "text": [
      "Column                         len(set(el))  len(duplicates  len(nulls)     \n",
      "                                                   non-null)                \n",
      "------                         ------------  --------------- ----------     \n",
      "Transaction_Id                        202389          0               0\n",
      "Merchant_Id                              259     202130               0\n",
      "TxnInitTime                           196141       6248               0\n",
      "TxnCompleteTime                       195996       6393               0\n",
      "ClientIP                              157313      45076               0\n",
      "User_Id                               136903      65486               0\n",
      "CountryCode                                7     202382               0\n",
      "Price                                    563     201826               0\n",
      "ChannelType                                3     202386               0\n",
      "Alpha2Code                                 7     202382               0\n",
      "GeoIpCountry                              39     201970             380\n",
      "UserAgent                              23469     178920               0\n",
      "Email_Id                               59599      42069          100721\n",
      "FirstTransactionDate                     943     201446               0\n",
      "UniquePaymentChannel                      16     202373               0\n",
      "FirstEmailDate                           943      98684          102762\n",
      "Flag                                       2     202387               0\n",
      "PaymentChannel                             9     202380               0\n",
      "ItemName                                 139     202250               0\n"
     ]
    }
   ],
   "source": [
    "information(data)"
   ]
  },
  {
   "cell_type": "code",
   "execution_count": 7,
   "metadata": {},
   "outputs": [
    {
     "name": "stdout",
     "output_type": "stream",
     "text": [
      "CountryCode and Alpha2Code are redundant. The relation is [[356, 'IN'], [458, 'MY'], [360, 'ID'], [702, 'SG'], [608, 'PH'], [116, 'KH'], [764, 'TH']]\n"
     ]
    }
   ],
   "source": [
    "#find redundant columns\n",
    "\n",
    "for idx1, e1 in enumerate(data.columns):\n",
    "    for idx2, e2 in enumerate(data.columns):\n",
    "        if idx2 <= idx1:\n",
    "            continue\n",
    "        else:\n",
    "            if len(data[e1].unique()) != len(data[e2].unique()):\n",
    "                continue\n",
    "            else:\n",
    "                relations = []\n",
    "                for el_col1, el_col2 in zip(data[e1], data[e2]):\n",
    "                    if [el_col1, el_col2] not in relations:\n",
    "                        relations.append([el_col1, el_col2])\n",
    "                        if len(relations) > len(data[e1].unique()):\n",
    "                            break\n",
    "                if len(relations) == len(data[e1].unique()) == len(data[e2].unique()):\n",
    "                    print(e1, \"and\", e2, \"are redundant. The relation is\", relations)\n",
    "                \n",
    "            "
   ]
  },
  {
   "cell_type": "code",
   "execution_count": 8,
   "metadata": {},
   "outputs": [
    {
     "name": "stdout",
     "output_type": "stream",
     "text": [
      "(202389, 18)\n"
     ]
    }
   ],
   "source": [
    "#delete countrycode. Alphacode to be checked against GeoIpCountry\n",
    "data.drop(columns=[\"CountryCode\"], inplace = True)\n",
    "\n",
    "print(data.shape)"
   ]
  },
  {
   "cell_type": "code",
   "execution_count": 9,
   "metadata": {},
   "outputs": [
    {
     "data": {
      "text/plain": [
       "True"
      ]
     },
     "execution_count": 9,
     "metadata": {},
     "output_type": "execute_result"
    }
   ],
   "source": [
    "# check that TxnInitTime is smaller than TxnCompleteTime\n",
    "(data.TxnInitTime <= data.TxnCompleteTime).all()"
   ]
  },
  {
   "cell_type": "code",
   "execution_count": 10,
   "metadata": {},
   "outputs": [
    {
     "data": {
      "text/plain": [
       "True"
      ]
     },
     "execution_count": 10,
     "metadata": {},
     "output_type": "execute_result"
    }
   ],
   "source": [
    "# check that FirstTransactionDate is smaller or equal than TxnCompleteTime\n",
    "(data.FirstTransactionDate <= data.TxnCompleteTime).all()"
   ]
  },
  {
   "cell_type": "code",
   "execution_count": 11,
   "metadata": {},
   "outputs": [
    {
     "name": "stdout",
     "output_type": "stream",
     "text": [
      "False\n",
      "8\n"
     ]
    },
    {
     "data": {
      "text/html": [
       "<div>\n",
       "<style scoped>\n",
       "    .dataframe tbody tr th:only-of-type {\n",
       "        vertical-align: middle;\n",
       "    }\n",
       "\n",
       "    .dataframe tbody tr th {\n",
       "        vertical-align: top;\n",
       "    }\n",
       "\n",
       "    .dataframe thead th {\n",
       "        text-align: right;\n",
       "    }\n",
       "</style>\n",
       "<table border=\"1\" class=\"dataframe\">\n",
       "  <thead>\n",
       "    <tr style=\"text-align: right;\">\n",
       "      <th></th>\n",
       "      <th>Transaction_Id</th>\n",
       "      <th>Merchant_Id</th>\n",
       "      <th>TxnInitTime</th>\n",
       "      <th>TxnCompleteTime</th>\n",
       "      <th>ClientIP</th>\n",
       "      <th>User_Id</th>\n",
       "      <th>Price</th>\n",
       "      <th>ChannelType</th>\n",
       "      <th>Alpha2Code</th>\n",
       "      <th>GeoIpCountry</th>\n",
       "      <th>UserAgent</th>\n",
       "      <th>Email_Id</th>\n",
       "      <th>FirstTransactionDate</th>\n",
       "      <th>UniquePaymentChannel</th>\n",
       "      <th>FirstEmailDate</th>\n",
       "      <th>Flag</th>\n",
       "      <th>PaymentChannel</th>\n",
       "      <th>ItemName</th>\n",
       "    </tr>\n",
       "  </thead>\n",
       "  <tbody>\n",
       "    <tr>\n",
       "      <th>53558</th>\n",
       "      <td>53559</td>\n",
       "      <td>2540</td>\n",
       "      <td>2021-07-19 23:59:53</td>\n",
       "      <td>2021-07-20 00:00:37</td>\n",
       "      <td>24e94c1cafec6abf09be004c6f70ae6c5f754c4c8b2553...</td>\n",
       "      <td>5096390c0f41b1069c821aa13e2ea6d189a2c347af373d...</td>\n",
       "      <td>800.00</td>\n",
       "      <td>2</td>\n",
       "      <td>IN</td>\n",
       "      <td>IN</td>\n",
       "      <td>Mozilla/5.0 (Linux; Android 11; SM-M215F) Appl...</td>\n",
       "      <td>780f6b6f7accb06a89eb2670242db359a6947ee81e6bc4...</td>\n",
       "      <td>2021-07-20</td>\n",
       "      <td>1</td>\n",
       "      <td>2021-07-20</td>\n",
       "      <td>0</td>\n",
       "      <td>PaymentChannel 1</td>\n",
       "      <td>Item 1</td>\n",
       "    </tr>\n",
       "    <tr>\n",
       "      <th>102641</th>\n",
       "      <td>102642</td>\n",
       "      <td>2216</td>\n",
       "      <td>2021-06-17 23:59:11</td>\n",
       "      <td>2021-06-18 00:00:21</td>\n",
       "      <td>a59992fc4edc2923e045122dbc44fbf4bdf4f44c3302d2...</td>\n",
       "      <td>08c908f42df2c12e61694e333b0cddd41028616eb13f28...</td>\n",
       "      <td>50.00</td>\n",
       "      <td>6</td>\n",
       "      <td>PH</td>\n",
       "      <td>PH</td>\n",
       "      <td>Mozilla/5.0 (Linux; Android 11; SAMSUNG SM-N97...</td>\n",
       "      <td>987ca8527aa52bd9a5ade92b426723d302e6f4442be3b3...</td>\n",
       "      <td>2021-06-18</td>\n",
       "      <td>1</td>\n",
       "      <td>2021-06-18</td>\n",
       "      <td>0</td>\n",
       "      <td>PaymentChannel 7</td>\n",
       "      <td>Item 49</td>\n",
       "    </tr>\n",
       "    <tr>\n",
       "      <th>104116</th>\n",
       "      <td>104117</td>\n",
       "      <td>4767</td>\n",
       "      <td>2021-06-27 23:59:51</td>\n",
       "      <td>2021-06-28 00:06:26</td>\n",
       "      <td>957400f4af9d05a507efa0431cd7e03f53754978be2c1a...</td>\n",
       "      <td>4566c10987518b78d401afb93ce8de141328a18a0e004c...</td>\n",
       "      <td>530.00</td>\n",
       "      <td>6</td>\n",
       "      <td>PH</td>\n",
       "      <td>PH</td>\n",
       "      <td>Mozilla/5.0 (Linux; Android 10; CPH1823) Apple...</td>\n",
       "      <td>4566c10987518b78d401afb93ce8de141328a18a0e004c...</td>\n",
       "      <td>2021-06-28</td>\n",
       "      <td>1</td>\n",
       "      <td>2021-06-28</td>\n",
       "      <td>0</td>\n",
       "      <td>PaymentChannel 7</td>\n",
       "      <td>Item 41</td>\n",
       "    </tr>\n",
       "    <tr>\n",
       "      <th>115427</th>\n",
       "      <td>115428</td>\n",
       "      <td>4768</td>\n",
       "      <td>2021-06-02 23:58:59</td>\n",
       "      <td>2021-06-03 00:00:36</td>\n",
       "      <td>b269b4f8d91751f46329b8f9b8465d1af83eaa088af069...</td>\n",
       "      <td>a864bb890e0fec489337b68d0474974bc4c35272780ee6...</td>\n",
       "      <td>214.00</td>\n",
       "      <td>6</td>\n",
       "      <td>MY</td>\n",
       "      <td>MY</td>\n",
       "      <td>Mozilla/5.0 (Linux; Android 8.1.0; CPH1901) Ap...</td>\n",
       "      <td>a864bb890e0fec489337b68d0474974bc4c35272780ee6...</td>\n",
       "      <td>2021-06-03</td>\n",
       "      <td>1</td>\n",
       "      <td>NaN</td>\n",
       "      <td>0</td>\n",
       "      <td>PaymentChannel 4</td>\n",
       "      <td>Item 29</td>\n",
       "    </tr>\n",
       "    <tr>\n",
       "      <th>138044</th>\n",
       "      <td>138045</td>\n",
       "      <td>1211</td>\n",
       "      <td>2021-05-12 23:56:39</td>\n",
       "      <td>2021-05-13 00:02:41</td>\n",
       "      <td>f90040280c419492cdf1979e05720e5c405d97e17f6d75...</td>\n",
       "      <td>85c21bf1d9cb312342ecfa8e739a007c6477a79cc679bb...</td>\n",
       "      <td>200.00</td>\n",
       "      <td>6</td>\n",
       "      <td>PH</td>\n",
       "      <td>PH</td>\n",
       "      <td>Mozilla/5.0 (Linux; Android 10; JNY-LX2; HMSCo...</td>\n",
       "      <td>af297724f4cb6b9d77b01cd1fa408a6570e23daf0c40f7...</td>\n",
       "      <td>2021-05-13</td>\n",
       "      <td>2</td>\n",
       "      <td>2020-06-19</td>\n",
       "      <td>0</td>\n",
       "      <td>PaymentChannel 7</td>\n",
       "      <td>Item 23</td>\n",
       "    </tr>\n",
       "    <tr>\n",
       "      <th>165033</th>\n",
       "      <td>165034</td>\n",
       "      <td>1833</td>\n",
       "      <td>2021-05-09 23:58:43</td>\n",
       "      <td>2021-05-10 00:01:09</td>\n",
       "      <td>e6d1407e077e57414b0eb268d2a3548bf267cd57747c49...</td>\n",
       "      <td>5fa77d50abbc8b5bc8bbf93bef801577c32370a49bec05...</td>\n",
       "      <td>29.10</td>\n",
       "      <td>6</td>\n",
       "      <td>KH</td>\n",
       "      <td>KH</td>\n",
       "      <td>Mozilla/5.0 (Linux; Android 10; SM-G965F) Appl...</td>\n",
       "      <td>3d969c39de949ca16c775ecd708c498e99b547ed086ce2...</td>\n",
       "      <td>2021-05-10</td>\n",
       "      <td>2</td>\n",
       "      <td>2021-05-10</td>\n",
       "      <td>0</td>\n",
       "      <td>PaymentChannel 8</td>\n",
       "      <td>Item 23</td>\n",
       "    </tr>\n",
       "    <tr>\n",
       "      <th>180847</th>\n",
       "      <td>180848</td>\n",
       "      <td>4767</td>\n",
       "      <td>2021-06-25 23:58:46</td>\n",
       "      <td>2021-06-26 00:02:52</td>\n",
       "      <td>481eb7a27c445c32200c44d8cd4d7e7be3d211484a58cb...</td>\n",
       "      <td>380466ecc597422593b4272c9bbc023879e33338304713...</td>\n",
       "      <td>530.00</td>\n",
       "      <td>6</td>\n",
       "      <td>PH</td>\n",
       "      <td>PH</td>\n",
       "      <td>Mozilla/5.0 (Windows NT 10.0; Win64; x64) Appl...</td>\n",
       "      <td>380466ecc597422593b4272c9bbc023879e33338304713...</td>\n",
       "      <td>2021-06-26</td>\n",
       "      <td>1</td>\n",
       "      <td>2020-07-26</td>\n",
       "      <td>0</td>\n",
       "      <td>PaymentChannel 7</td>\n",
       "      <td>Item 41</td>\n",
       "    </tr>\n",
       "    <tr>\n",
       "      <th>193707</th>\n",
       "      <td>193708</td>\n",
       "      <td>1213</td>\n",
       "      <td>2021-05-12 23:59:17</td>\n",
       "      <td>2021-05-13 00:00:43</td>\n",
       "      <td>8c5c51cc6366124410712b7bdee09faee03630aecfe62c...</td>\n",
       "      <td>d75fe2cf3dff3b32d4cdfb92a547fa64741ece4af0844b...</td>\n",
       "      <td>23.77</td>\n",
       "      <td>6</td>\n",
       "      <td>MY</td>\n",
       "      <td>MY</td>\n",
       "      <td>Mozilla/5.0 (iPhone; CPU iPhone OS 14_4_2 like...</td>\n",
       "      <td>ba71359c860e194f6c91694d2f945a9eb3011fe1d8ad60...</td>\n",
       "      <td>2021-05-13</td>\n",
       "      <td>2</td>\n",
       "      <td>2021-04-03</td>\n",
       "      <td>0</td>\n",
       "      <td>PaymentChannel 4</td>\n",
       "      <td>Item 23</td>\n",
       "    </tr>\n",
       "  </tbody>\n",
       "</table>\n",
       "</div>"
      ],
      "text/plain": [
       "        Transaction_Id  Merchant_Id          TxnInitTime      TxnCompleteTime  \\\n",
       "53558            53559         2540  2021-07-19 23:59:53  2021-07-20 00:00:37   \n",
       "102641          102642         2216  2021-06-17 23:59:11  2021-06-18 00:00:21   \n",
       "104116          104117         4767  2021-06-27 23:59:51  2021-06-28 00:06:26   \n",
       "115427          115428         4768  2021-06-02 23:58:59  2021-06-03 00:00:36   \n",
       "138044          138045         1211  2021-05-12 23:56:39  2021-05-13 00:02:41   \n",
       "165033          165034         1833  2021-05-09 23:58:43  2021-05-10 00:01:09   \n",
       "180847          180848         4767  2021-06-25 23:58:46  2021-06-26 00:02:52   \n",
       "193707          193708         1213  2021-05-12 23:59:17  2021-05-13 00:00:43   \n",
       "\n",
       "                                                 ClientIP  \\\n",
       "53558   24e94c1cafec6abf09be004c6f70ae6c5f754c4c8b2553...   \n",
       "102641  a59992fc4edc2923e045122dbc44fbf4bdf4f44c3302d2...   \n",
       "104116  957400f4af9d05a507efa0431cd7e03f53754978be2c1a...   \n",
       "115427  b269b4f8d91751f46329b8f9b8465d1af83eaa088af069...   \n",
       "138044  f90040280c419492cdf1979e05720e5c405d97e17f6d75...   \n",
       "165033  e6d1407e077e57414b0eb268d2a3548bf267cd57747c49...   \n",
       "180847  481eb7a27c445c32200c44d8cd4d7e7be3d211484a58cb...   \n",
       "193707  8c5c51cc6366124410712b7bdee09faee03630aecfe62c...   \n",
       "\n",
       "                                                  User_Id   Price  \\\n",
       "53558   5096390c0f41b1069c821aa13e2ea6d189a2c347af373d...  800.00   \n",
       "102641  08c908f42df2c12e61694e333b0cddd41028616eb13f28...   50.00   \n",
       "104116  4566c10987518b78d401afb93ce8de141328a18a0e004c...  530.00   \n",
       "115427  a864bb890e0fec489337b68d0474974bc4c35272780ee6...  214.00   \n",
       "138044  85c21bf1d9cb312342ecfa8e739a007c6477a79cc679bb...  200.00   \n",
       "165033  5fa77d50abbc8b5bc8bbf93bef801577c32370a49bec05...   29.10   \n",
       "180847  380466ecc597422593b4272c9bbc023879e33338304713...  530.00   \n",
       "193707  d75fe2cf3dff3b32d4cdfb92a547fa64741ece4af0844b...   23.77   \n",
       "\n",
       "        ChannelType Alpha2Code GeoIpCountry  \\\n",
       "53558             2         IN           IN   \n",
       "102641            6         PH           PH   \n",
       "104116            6         PH           PH   \n",
       "115427            6         MY           MY   \n",
       "138044            6         PH           PH   \n",
       "165033            6         KH           KH   \n",
       "180847            6         PH           PH   \n",
       "193707            6         MY           MY   \n",
       "\n",
       "                                                UserAgent  \\\n",
       "53558   Mozilla/5.0 (Linux; Android 11; SM-M215F) Appl...   \n",
       "102641  Mozilla/5.0 (Linux; Android 11; SAMSUNG SM-N97...   \n",
       "104116  Mozilla/5.0 (Linux; Android 10; CPH1823) Apple...   \n",
       "115427  Mozilla/5.0 (Linux; Android 8.1.0; CPH1901) Ap...   \n",
       "138044  Mozilla/5.0 (Linux; Android 10; JNY-LX2; HMSCo...   \n",
       "165033  Mozilla/5.0 (Linux; Android 10; SM-G965F) Appl...   \n",
       "180847  Mozilla/5.0 (Windows NT 10.0; Win64; x64) Appl...   \n",
       "193707  Mozilla/5.0 (iPhone; CPU iPhone OS 14_4_2 like...   \n",
       "\n",
       "                                                 Email_Id  \\\n",
       "53558   780f6b6f7accb06a89eb2670242db359a6947ee81e6bc4...   \n",
       "102641  987ca8527aa52bd9a5ade92b426723d302e6f4442be3b3...   \n",
       "104116  4566c10987518b78d401afb93ce8de141328a18a0e004c...   \n",
       "115427  a864bb890e0fec489337b68d0474974bc4c35272780ee6...   \n",
       "138044  af297724f4cb6b9d77b01cd1fa408a6570e23daf0c40f7...   \n",
       "165033  3d969c39de949ca16c775ecd708c498e99b547ed086ce2...   \n",
       "180847  380466ecc597422593b4272c9bbc023879e33338304713...   \n",
       "193707  ba71359c860e194f6c91694d2f945a9eb3011fe1d8ad60...   \n",
       "\n",
       "       FirstTransactionDate  UniquePaymentChannel FirstEmailDate  Flag  \\\n",
       "53558            2021-07-20                     1     2021-07-20     0   \n",
       "102641           2021-06-18                     1     2021-06-18     0   \n",
       "104116           2021-06-28                     1     2021-06-28     0   \n",
       "115427           2021-06-03                     1            NaN     0   \n",
       "138044           2021-05-13                     2     2020-06-19     0   \n",
       "165033           2021-05-10                     2     2021-05-10     0   \n",
       "180847           2021-06-26                     1     2020-07-26     0   \n",
       "193707           2021-05-13                     2     2021-04-03     0   \n",
       "\n",
       "          PaymentChannel ItemName  \n",
       "53558   PaymentChannel 1   Item 1  \n",
       "102641  PaymentChannel 7  Item 49  \n",
       "104116  PaymentChannel 7  Item 41  \n",
       "115427  PaymentChannel 4  Item 29  \n",
       "138044  PaymentChannel 7  Item 23  \n",
       "165033  PaymentChannel 8  Item 23  \n",
       "180847  PaymentChannel 7  Item 41  \n",
       "193707  PaymentChannel 4  Item 23  "
      ]
     },
     "execution_count": 11,
     "metadata": {},
     "output_type": "execute_result"
    }
   ],
   "source": [
    "#Note: FirstTransactionDate is correctly recorded when transaction is completed\n",
    "print((data.FirstTransactionDate <= data.TxnInitTime).all())\n",
    "print(sum(data.TxnInitTime < data.FirstTransactionDate))\n",
    "data[data.TxnInitTime < data.FirstTransactionDate]"
   ]
  },
  {
   "cell_type": "code",
   "execution_count": 12,
   "metadata": {},
   "outputs": [
    {
     "data": {
      "text/plain": [
       "True"
      ]
     },
     "execution_count": 12,
     "metadata": {},
     "output_type": "execute_result"
    }
   ],
   "source": [
    "# check that FirstTransactionDate is smaller or equal than 2022-02-21 (when data is downloaded)\n",
    "(data.FirstTransactionDate <= \"2022-02-21\").all()"
   ]
  },
  {
   "cell_type": "code",
   "execution_count": 14,
   "metadata": {},
   "outputs": [],
   "source": [
    "# set appropriate type\n",
    "data = data.astype(\n",
    "    {\"Merchant_Id\":\"category\", \n",
    "     \"ChannelType\":\"category\", \n",
    "     \"UserAgent\":\"category\", \n",
    "     \"PaymentChannel\":\"category\", \n",
    "     \"ItemName\":\"category\"}) \n",
    "\n",
    "# strings to numbers\n",
    "data[\"Merchant_Id\"] = data[\"Merchant_Id\"].cat.codes\n",
    "data[\"ChannelType\"] = data[\"ChannelType\"].cat.codes\n",
    "data[\"UserAgent\"] = data[\"UserAgent\"].cat.codes\n",
    "data[\"PaymentChannel\"] = data[\"PaymentChannel\"].cat.codes\n",
    "data[\"ItemName\"] = data[\"ItemName\"].cat.codes\n",
    "#Alpha2Code and GeoIpCountry need same codes. Done later"
   ]
  },
  {
   "cell_type": "code",
   "execution_count": 15,
   "metadata": {},
   "outputs": [],
   "source": [
    "# Fix NaN and add features"
   ]
  },
  {
   "cell_type": "code",
   "execution_count": 16,
   "metadata": {},
   "outputs": [],
   "source": [
    "# where there is Email_Id but not FirstEmailDate, substitute FirstEmailDate with FirstTransactionDate\n",
    "data.loc[ (~pd.isna(data.Email_Id)) & pd.isna(data.FirstEmailDate), \"FirstEmailDate\"] = data.loc[ (~pd.isna(data.Email_Id)) & pd.isna(data.FirstEmailDate), \"FirstTransactionDate\"]"
   ]
  },
  {
   "cell_type": "code",
   "execution_count": 17,
   "metadata": {},
   "outputs": [],
   "source": [
    "# part of the day the transaction is complete. Devide day in 24 categories according to hour\n",
    "data.insert(4, \"TxnHour\", list(map(date_hour, data[\"TxnCompleteTime\"]))  )"
   ]
  },
  {
   "cell_type": "code",
   "execution_count": 18,
   "metadata": {},
   "outputs": [],
   "source": [
    "#duration duration\n",
    "data.insert(5, \"TxnDuration_Seconds\", list( map(date_diff, data[\"TxnInitTime\"], data[\"TxnCompleteTime\"]) )  )\n",
    "\n",
    "data[\"TxnDuration_Seconds\"] = data[\"TxnDuration_Seconds\"].astype(int)"
   ]
  },
  {
   "cell_type": "code",
   "execution_count": null,
   "metadata": {},
   "outputs": [],
   "source": [
    "#weekday (0-6) in which the transaction has been made\n",
    "data.insert(6, \"TxnWeekday\", list(map(date_weekday, data[\"TxnCompleteTime\"])))\n",
    "\n",
    "#days from the first transaction\n",
    "data.insert(7, \"FromFirstTxnToCurrentTxn_Days\", list(map(date_diff_days, data[\"FirstTransactionDate\"], data[\"TxnCompleteTime\"])) )\n",
    "\n",
    "#number of transactions from IP\n",
    "data.insert(9, \"ClientIP_occurrences\", hash_to_occurrences(data, \"ClientIP\") )\n",
    "\n",
    "#number of transactions of a user for a specific digital service \n",
    "data.insert(11, \"User_Id_occurrences\", hash_to_occurrences(data, \"User_Id\") )\n",
    "\n",
    "#GeoIp info does not coincide with Alpha2Code info\n",
    "data.insert(16, \"GeoIpNotEqAlpha2\", ( ~( (data.GeoIpCountry == data.Alpha2Code) | pd.isnull(data.GeoIpCountry) ) ).astype(int) )\n",
    "\n",
    "#number of transactions done with a given email\n",
    "data.insert(19, \"Email_Id_occurrences\", hash_to_occurrences(data, \"Email_Id\") )\n",
    "\n",
    "#email is entered after the first transaction\n",
    "data.insert(21, \"FirstTransactionWithoutEmail\",~(data.FirstEmailDate <= data.FirstTransactionDate))\n",
    "#same as \n",
    "#data.insert(21, \"FirstTransactionWithoutEmail\", (data.FirstTransactionDate < data.FirstEmailDate) | (pd.isnull(data.FirstEmailDate) ))\n",
    "\n",
    "data[\"FirstTransactionWithoutEmail\"] = data[\"FirstTransactionWithoutEmail\"].astype(int)"
   ]
  },
  {
   "cell_type": "code",
   "execution_count": 26,
   "metadata": {},
   "outputs": [],
   "source": [
    "#replace NaN with 0\n",
    "data.GeoIpCountry.fillna(0, inplace=True)\n",
    "\n",
    "data.Email_Id_occurrences.fillna(0, inplace=True)"
   ]
  },
  {
   "cell_type": "code",
   "execution_count": 27,
   "metadata": {},
   "outputs": [],
   "source": [
    "#Alpha2Code and GeoIpCountry with same codes\n",
    "data = data.astype(\n",
    "    {\"Alpha2Code\":\"category\", \n",
    "     \"GeoIpCountry\":\"category\"}) \n",
    "\n",
    "\n",
    "geoIpCountry_dic =  pd.Series(data.GeoIpCountry.cat.codes.values, index=data.GeoIpCountry).to_dict()\n",
    "\n",
    "data[\"GeoIpCountry\"] = data[\"GeoIpCountry\"].map(geoIpCountry_dic)\n",
    "\n",
    "data[\"Alpha2Code\"] = data[\"Alpha2Code\"].map(geoIpCountry_dic)"
   ]
  },
  {
   "cell_type": "code",
   "execution_count": 28,
   "metadata": {},
   "outputs": [],
   "source": [
    "# set appropriate type\n",
    "data = data.astype({\n",
    "    \"Alpha2Code\":\"int\", \n",
    "    \"GeoIpCountry\":\"int\", \n",
    "    \"Email_Id_occurrences\":\"int\"}) "
   ]
  },
  {
   "cell_type": "code",
   "execution_count": 29,
   "metadata": {},
   "outputs": [],
   "source": [
    "#add an interaction term\n",
    "data[\"TxnDuration_X_UniquePaymentCh\"] = data.TxnDuration_Seconds * data.UniquePaymentChannel"
   ]
  },
  {
   "cell_type": "raw",
   "metadata": {},
   "source": [
    "# TODO \n",
    "#with a smaller training set (for efficiency), add all the polinomial features up to a degree\n",
    "#poly = PolynomialFeatures(6)\n",
    "#X = poly.fit_transform(X) \n",
    "#and select the features (from sklearn.feature_selection import RFE) that are relevant, \n",
    "#then train the entire training set with these relevant features"
   ]
  },
  {
   "cell_type": "code",
   "execution_count": 30,
   "metadata": {},
   "outputs": [
    {
     "data": {
      "text/plain": [
       "(202389, 20)"
      ]
     },
     "execution_count": 30,
     "metadata": {},
     "output_type": "execute_result"
    }
   ],
   "source": [
    "#delete unuseful features\n",
    "data.drop(columns=[\n",
    "    \"Transaction_Id\", \n",
    "    \"TxnInitTime\", \n",
    "    \"TxnCompleteTime\", \n",
    "    \"ClientIP\", \n",
    "    \"User_Id\", \n",
    "    \"Email_Id\", \n",
    "    \"FirstTransactionDate\", \n",
    "    \"FirstEmailDate\"], \n",
    "    inplace = True)\n",
    "\n",
    "data.shape"
   ]
  },
  {
   "cell_type": "code",
   "execution_count": 31,
   "metadata": {},
   "outputs": [
    {
     "name": "stdout",
     "output_type": "stream",
     "text": [
      "<class 'pandas.core.frame.DataFrame'>\n",
      "RangeIndex: 202389 entries, 0 to 202388\n",
      "Data columns (total 20 columns):\n",
      " #   Column                         Non-Null Count   Dtype  \n",
      "---  ------                         --------------   -----  \n",
      " 0   Merchant_Id                    202389 non-null  int16  \n",
      " 1   TxnHour                        202389 non-null  int64  \n",
      " 2   TxnDuration_Seconds            202389 non-null  int64  \n",
      " 3   TxnWeekday                     202389 non-null  int64  \n",
      " 4   FromFirstTxnToCurrentTxn_Days  202389 non-null  int64  \n",
      " 5   ClientIP_occurrences           202389 non-null  int64  \n",
      " 6   User_Id_occurrences            202389 non-null  int64  \n",
      " 7   Price                          202389 non-null  float64\n",
      " 8   ChannelType                    202389 non-null  int8   \n",
      " 9   Alpha2Code                     202389 non-null  int64  \n",
      " 10  GeoIpCountry                   202389 non-null  int64  \n",
      " 11  GeoIpNotEqAlpha2               202389 non-null  int64  \n",
      " 12  UserAgent                      202389 non-null  int16  \n",
      " 13  Email_Id_occurrences           202389 non-null  int64  \n",
      " 14  FirstTransactionWithoutEmail   202389 non-null  int64  \n",
      " 15  UniquePaymentChannel           202389 non-null  int64  \n",
      " 16  Flag                           202389 non-null  int64  \n",
      " 17  PaymentChannel                 202389 non-null  int8   \n",
      " 18  ItemName                       202389 non-null  int16  \n",
      " 19  TxnDuration_X_UniquePaymentCh  202389 non-null  int64  \n",
      "dtypes: float64(1), int16(3), int64(14), int8(2)\n",
      "memory usage: 24.7 MB\n"
     ]
    }
   ],
   "source": [
    "data.info()"
   ]
  },
  {
   "cell_type": "code",
   "execution_count": 32,
   "metadata": {},
   "outputs": [
    {
     "name": "stdout",
     "output_type": "stream",
     "text": [
      "Column                         len(set(el))  len(duplicates  len(nulls)     \n",
      "                                                   non-null)                \n",
      "------                         ------------  --------------- ----------     \n",
      "Merchant_Id                              259     202130               0\n",
      "TxnHour                                   24     202365               0\n",
      "TxnDuration_Seconds                     1336     201053               0\n",
      "TxnWeekday                                 7     202382               0\n",
      "FromFirstTxnToCurrentTxn_Days            943     201446               0\n",
      "ClientIP_occurrences                      68     202321               0\n",
      "User_Id_occurrences                       47     202342               0\n",
      "Price                                    563     201826               0\n",
      "ChannelType                                3     202386               0\n",
      "Alpha2Code                                 7     202382               0\n",
      "GeoIpCountry                              40     202349               0\n",
      "GeoIpNotEqAlpha2                           2     202387               0\n",
      "UserAgent                              23469     178920               0\n",
      "Email_Id_occurrences                      45     202344               0\n",
      "FirstTransactionWithoutEmail               2     202387               0\n",
      "UniquePaymentChannel                      16     202373               0\n",
      "Flag                                       2     202387               0\n",
      "PaymentChannel                             9     202380               0\n",
      "ItemName                                 139     202250               0\n",
      "TxnDuration_X_UniquePaymentCh           2227     200162               0\n"
     ]
    }
   ],
   "source": [
    "information(data)"
   ]
  },
  {
   "cell_type": "code",
   "execution_count": 33,
   "metadata": {},
   "outputs": [
    {
     "data": {
      "text/plain": [
       "4.855588112180829"
      ]
     },
     "execution_count": 33,
     "metadata": {},
     "output_type": "execute_result"
    }
   ],
   "source": [
    "#outliers with Tukey's method\n",
    "q1 = data.TxnDuration_Seconds.quantile(0.25)\n",
    "q3 = data.TxnDuration_Seconds.quantile(0.75)\n",
    "iqr = q3 - q1\n",
    "low_lim = q1 - 2 * iqr\n",
    "up_lim = q3 + 2 * iqr\n",
    "\n",
    "#percentage of TxnDuration_Seconds outliers with flag 1 over all the flag 1, as in \n",
    "100* (((data.TxnDuration_Seconds < low_lim) | (data.TxnDuration_Seconds > up_lim )) & data.Flag).sum() / (data.Flag == 1).sum()"
   ]
  },
  {
   "cell_type": "code",
   "execution_count": 34,
   "metadata": {},
   "outputs": [],
   "source": [
    "#many outliers with flag 1  -->  keep outliers and use Winsorize method"
   ]
  },
  {
   "cell_type": "code",
   "execution_count": 35,
   "metadata": {},
   "outputs": [
    {
     "data": {
      "image/png": "[encoded data removed]",
      "text/plain": [
       "<Figure size 432x288 with 1 Axes>"
      ]
     },
     "metadata": {
      "needs_background": "light"
     },
     "output_type": "display_data"
    }
   ],
   "source": [
    "sns.boxplot(x = data.User_Id_occurrences)\n",
    "plt.show()"
   ]
  },
  {
   "cell_type": "code",
   "execution_count": 36,
   "metadata": {},
   "outputs": [
    {
     "data": {
      "text/plain": [
       "masked_array(data=[ 4, 23,  2, ...,  1,  1,  1],\n",
       "             mask=False,\n",
       "       fill_value=999999)"
      ]
     },
     "execution_count": 36,
     "metadata": {},
     "output_type": "execute_result"
    }
   ],
   "source": [
    "winsorize(data.User_Id_occurrences, (0.01,0.01), inplace=True)"
   ]
  },
  {
   "cell_type": "code",
   "execution_count": 37,
   "metadata": {},
   "outputs": [
    {
     "data": {
      "image/png": "[encoded data removed]",
      "text/plain": [
       "<Figure size 432x288 with 1 Axes>"
      ]
     },
     "metadata": {
      "needs_background": "light"
     },
     "output_type": "display_data"
    }
   ],
   "source": [
    "sns.boxplot(x = data.FromFirstTxnToCurrentTxn_Days)\n",
    "plt.show()"
   ]
  },
  {
   "cell_type": "code",
   "execution_count": 38,
   "metadata": {},
   "outputs": [
    {
     "data": {
      "text/plain": [
       "masked_array(data=[443,   2,  23, ..., 398, 709,  53],\n",
       "             mask=False,\n",
       "       fill_value=999999)"
      ]
     },
     "execution_count": 38,
     "metadata": {},
     "output_type": "execute_result"
    }
   ],
   "source": [
    "winsorize(data.FromFirstTxnToCurrentTxn_Days, (0.01,0.01), inplace=True)"
   ]
  },
  {
   "cell_type": "code",
   "execution_count": 39,
   "metadata": {},
   "outputs": [
    {
     "data": {
      "image/png": "[encoded data removed]",
      "text/plain": [
       "<Figure size 432x288 with 1 Axes>"
      ]
     },
     "metadata": {
      "needs_background": "light"
     },
     "output_type": "display_data"
    }
   ],
   "source": [
    "sns.boxplot(x = data.UniquePaymentChannel)\n",
    "plt.show()"
   ]
  },
  {
   "cell_type": "code",
   "execution_count": 40,
   "metadata": {},
   "outputs": [
    {
     "data": {
      "text/plain": [
       "masked_array(data=[2, 1, 1, ..., 3, 3, 2],\n",
       "             mask=False,\n",
       "       fill_value=999999)"
      ]
     },
     "execution_count": 40,
     "metadata": {},
     "output_type": "execute_result"
    }
   ],
   "source": [
    "winsorize(data.UniquePaymentChannel, (0.01,0.01), inplace=True)"
   ]
  },
  {
   "cell_type": "code",
   "execution_count": 41,
   "metadata": {},
   "outputs": [
    {
     "data": {
      "image/png": "[encoded data removed]",
      "text/plain": [
       "<Figure size 432x288 with 1 Axes>"
      ]
     },
     "metadata": {
      "needs_background": "light"
     },
     "output_type": "display_data"
    }
   ],
   "source": [
    "sns.boxplot(x = data.ClientIP_occurrences)\n",
    "plt.show()"
   ]
  },
  {
   "cell_type": "code",
   "execution_count": 42,
   "metadata": {},
   "outputs": [
    {
     "data": {
      "text/plain": [
       "masked_array(data=[2, 7, 1, ..., 1, 3, 1],\n",
       "             mask=False,\n",
       "       fill_value=999999)"
      ]
     },
     "execution_count": 42,
     "metadata": {},
     "output_type": "execute_result"
    }
   ],
   "source": [
    "winsorize(data.ClientIP_occurrences, (0.01,0.01), inplace=True)"
   ]
  },
  {
   "cell_type": "code",
   "execution_count": 43,
   "metadata": {},
   "outputs": [
    {
     "data": {
      "image/png": "[encoded data removed]",
      "text/plain": [
       "<Figure size 432x288 with 1 Axes>"
      ]
     },
     "metadata": {
      "needs_background": "light"
     },
     "output_type": "display_data"
    }
   ],
   "source": [
    "sns.boxplot(x = data.TxnDuration_Seconds)\n",
    "plt.show()"
   ]
  },
  {
   "cell_type": "code",
   "execution_count": 44,
   "metadata": {},
   "outputs": [
    {
     "data": {
      "text/plain": [
       "masked_array(data=[58, 43, 42, ..., 96, 47, 51],\n",
       "             mask=False,\n",
       "       fill_value=999999)"
      ]
     },
     "execution_count": 44,
     "metadata": {},
     "output_type": "execute_result"
    }
   ],
   "source": [
    "winsorize(data.TxnDuration_Seconds, (0.01,0.01), inplace=True)"
   ]
  },
  {
   "cell_type": "code",
   "execution_count": 45,
   "metadata": {},
   "outputs": [
    {
     "data": {
      "image/png": "[encoded data removed]",
      "text/plain": [
       "<Figure size 432x288 with 1 Axes>"
      ]
     },
     "metadata": {
      "needs_background": "light"
     },
     "output_type": "display_data"
    }
   ],
   "source": [
    "sns.boxplot(x = data.Email_Id_occurrences)\n",
    "plt.show()"
   ]
  },
  {
   "cell_type": "code",
   "execution_count": 46,
   "metadata": {},
   "outputs": [
    {
     "data": {
      "text/plain": [
       "masked_array(data=[0, 0, 0, ..., 1, 0, 1],\n",
       "             mask=False,\n",
       "       fill_value=999999)"
      ]
     },
     "execution_count": 46,
     "metadata": {},
     "output_type": "execute_result"
    }
   ],
   "source": [
    "winsorize(data.Email_Id_occurrences, (0.01,0.01), inplace=True)"
   ]
  },
  {
   "cell_type": "code",
   "execution_count": 47,
   "metadata": {},
   "outputs": [
    {
     "data": {
      "image/png": "[encoded data removed]",
      "text/plain": [
       "<Figure size 432x288 with 1 Axes>"
      ]
     },
     "metadata": {
      "needs_background": "light"
     },
     "output_type": "display_data"
    }
   ],
   "source": [
    "sns.boxplot(x = data.TxnDuration_X_UniquePaymentCh)\n",
    "plt.show()"
   ]
  },
  {
   "cell_type": "code",
   "execution_count": 48,
   "metadata": {},
   "outputs": [
    {
     "data": {
      "text/plain": [
       "masked_array(data=[116,  43,  42, ..., 288, 141, 102],\n",
       "             mask=False,\n",
       "       fill_value=999999)"
      ]
     },
     "execution_count": 48,
     "metadata": {},
     "output_type": "execute_result"
    }
   ],
   "source": [
    "winsorize(data.TxnDuration_X_UniquePaymentCh, (0.01,0.01), inplace=True)"
   ]
  },
  {
   "cell_type": "code",
   "execution_count": 49,
   "metadata": {},
   "outputs": [],
   "source": [
    "#set X and Y\n",
    "X = data.drop(columns=['Flag'])\n",
    "Y = data.Flag"
   ]
  },
  {
   "cell_type": "code",
   "execution_count": 50,
   "metadata": {},
   "outputs": [],
   "source": [
    "#standardization\n",
    "\n",
    "scaler = preprocessing.StandardScaler().fit(X)\n",
    "\n",
    "X = scaler.transform(X) "
   ]
  },
  {
   "cell_type": "code",
   "execution_count": 51,
   "metadata": {},
   "outputs": [],
   "source": [
    "#divide data in 60% train, 20% cross validation, 20% test\n",
    "X_train, X_cv_t, Y_train, Y_cv_t = train_test_split(X, Y, test_size=0.4, random_state=0)\n",
    "X_cross_val, X_test, Y_cross_val, Y_test = train_test_split(X_cv_t, Y_cv_t, test_size=0.5, random_state=0)\n",
    "del X_cv_t, Y_cv_t"
   ]
  },
  {
   "cell_type": "code",
   "execution_count": 52,
   "metadata": {},
   "outputs": [
    {
     "data": {
      "text/plain": [
       "LogisticRegression(class_weight='balanced')"
      ]
     },
     "execution_count": 52,
     "metadata": {},
     "output_type": "execute_result"
    }
   ],
   "source": [
    "#fit logistic regression with lambda = 1\n",
    "model = LogisticRegression(class_weight=\"balanced\")\n",
    "model.fit(X_train, Y_train)"
   ]
  },
  {
   "cell_type": "code",
   "execution_count": 53,
   "metadata": {},
   "outputs": [],
   "source": [
    "#predict vaues on test set using threshold =0.5\n",
    "Y_test_pred_not_optimised = model.predict(X_test)"
   ]
  },
  {
   "cell_type": "code",
   "execution_count": 54,
   "metadata": {},
   "outputs": [
    {
     "name": "stdout",
     "output_type": "stream",
     "text": [
      "Model performance with not optimised hyperparameters\n",
      "----------------------------------------------------\n",
      "percentage of true positive 0.9239586936113444\n",
      "percentage of false positive 11.211028212856366\n",
      "percentage of false negative 0.25940016799248977\n",
      "percentage of true negative 87.6056129255398\n",
      "----------------------------------------------------\n",
      "number of true positive 374\n",
      "number of false positive 4538\n",
      "number of false negative 105\n",
      "number of true negative 35461\n",
      "----------------------------------------------------\n",
      "F1 score 0.138749768132072\n"
     ]
    }
   ],
   "source": [
    "#model performance\n",
    "Y_test_pred_not_optimised_series = pd.Series(list(Y_test_pred_not_optimised))\n",
    "Y_test_series = pd.Series(list(Y_test))\n",
    "\n",
    "print(\"Model performance with not optimised hyperparameters\")\n",
    "print(\"----------------------------------------------------\")\n",
    "#percentage of true positive\n",
    "tp_not_optimised = ((Y_test_pred_not_optimised_series == 1) & (Y_test_series == 1)).sum() \n",
    "print(\"percentage of true positive\", 100*tp_not_optimised/len(Y_test_series))\n",
    "#percentage of false positive\n",
    "fp_not_optimised = ((Y_test_pred_not_optimised_series == 1) & (Y_test_series == 0)).sum()\n",
    "print(\"percentage of false positive\", 100*fp_not_optimised/len(Y_test_series))\n",
    "#percentage of false negative\n",
    "fn_not_optimised = ((Y_test_pred_not_optimised_series == 0) & (Y_test_series == 1)).sum() \n",
    "print(\"percentage of false negative\", 100*fn_not_optimised/len(Y_test_series))\n",
    "#percentage of true negative\n",
    "tn_not_optimised = ((Y_test_pred_not_optimised_series == 0) & (Y_test_series == 0)).sum() \n",
    "print(\"percentage of true negative\", 100*tn_not_optimised/len(Y_test_series))\n",
    "print(\"----------------------------------------------------\")\n",
    "print(\"number of true positive\", tp_not_optimised)\n",
    "print(\"number of false positive\", fp_not_optimised)\n",
    "print(\"number of false negative\", fn_not_optimised)\n",
    "print(\"number of true negative\", tn_not_optimised)\n",
    "print(\"----------------------------------------------------\")\n",
    "#F1 score for the test set with not optimised hyperparameters\n",
    "precision_not_optimised = tp_not_optimised/(tp_not_optimised+fp_not_optimised)\n",
    "recall_not_optimised = tp_not_optimised/(tp_not_optimised+fn_not_optimised)\n",
    "print(\"F1 score\", 2*precision_not_optimised*recall_not_optimised/(precision_not_optimised+recall_not_optimised) )"
   ]
  },
  {
   "cell_type": "code",
   "execution_count": 66,
   "metadata": {},
   "outputs": [
    {
     "name": "stdout",
     "output_type": "stream",
     "text": [
      "   direc: array([[1., 0.],\n",
      "       [0., 1.]])\n",
      "     fun: -0.3549060542797495\n",
      " message: 'Optimization terminated successfully.'\n",
      "    nfev: 83\n",
      "     nit: 2\n",
      "  status: 0\n",
      " success: True\n",
      "       x: array([2.86967657e+04, 9.48647669e-01])\n"
     ]
    },
    {
     "data": {
      "text/plain": [
       "datetime.timedelta(seconds=172, microseconds=254859)"
      ]
     },
     "execution_count": 66,
     "metadata": {},
     "output_type": "execute_result"
    }
   ],
   "source": [
    "#this cell takes about 2 minutes to compute\n",
    "#maximise F1 score over C and thresholds hyperparameters\n",
    "bnds = ((0, None), (0 , 1)) # ( (1/lambda bounds) , (threshold bounds) )\n",
    "res = optimize.minimize(f1_score_neg, (1, 0.5), bounds=bnds, method='Powell')\n",
    "print(res)"
   ]
  },
  {
   "cell_type": "code",
   "execution_count": 56,
   "metadata": {},
   "outputs": [],
   "source": [
    "#regularisation parameter C = lambda^(-1)\n",
    "lambda_inv = res.x[0]"
   ]
  },
  {
   "cell_type": "code",
   "execution_count": 57,
   "metadata": {},
   "outputs": [],
   "source": [
    "#threshold\n",
    "threshold = res.x[1]"
   ]
  },
  {
   "cell_type": "code",
   "execution_count": 58,
   "metadata": {},
   "outputs": [],
   "source": [
    "#Measure the model performance with optimised hyperparameters\n",
    "model = LogisticRegression(class_weight=\"balanced\", C=lambda_inv)\n",
    "model.fit(X_test, Y_test)\n",
    "Y_test_pred = predicted_y_with_threshold(model, X_test,threshold)"
   ]
  },
  {
   "cell_type": "code",
   "execution_count": 59,
   "metadata": {},
   "outputs": [
    {
     "name": "stdout",
     "output_type": "stream",
     "text": [
      "Model performance with optimised hyperparameters\n",
      "------------------------------------------------\n",
      "percentage of true positive 0.48915460250012355\n",
      "percentage of false positive 0.9165472602401304\n",
      "percentage of false negative 0.6942042591037106\n",
      "percentage of true negative 97.90009387815604\n",
      "------------------------------------------------\n",
      "number of true positive 198\n",
      "number of false positive 371\n",
      "number of false negative 281\n",
      "number of true negative 39628\n",
      "------------------------------------------------\n",
      "F1 score 0.37786259541984735\n"
     ]
    }
   ],
   "source": [
    "Y_test_pred_series = pd.Series(list(Y_test_pred))\n",
    "\n",
    "print(\"Model performance with optimised hyperparameters\")\n",
    "print(\"------------------------------------------------\")\n",
    "#percentage of true positive\n",
    "tp = ((Y_test_pred_series == 1) & (Y_test_series == 1)).sum() \n",
    "print(\"percentage of true positive\", 100*tp/len(Y_test_series))\n",
    "#percentage of false positive\n",
    "fp = ((Y_test_pred_series == 1) & (Y_test_series == 0)).sum()\n",
    "print(\"percentage of false positive\", 100*fp/len(Y_test_series))\n",
    "#percentage of false negative\n",
    "fn = ((Y_test_pred_series == 0) & (Y_test_series == 1)).sum() \n",
    "print(\"percentage of false negative\", 100*fn/len(Y_test_series))\n",
    "#percentage of true negative\n",
    "tn = ((Y_test_pred_series == 0) & (Y_test_series == 0)).sum() \n",
    "print(\"percentage of true negative\", 100*tn/len(Y_test_series))\n",
    "print(\"------------------------------------------------\")\n",
    "print(\"number of true positive\", tp)\n",
    "print(\"number of false positive\", fp)\n",
    "print(\"number of false negative\", fn)\n",
    "print(\"number of true negative\", tn)\n",
    "print(\"------------------------------------------------\")\n",
    "#F1 score for the test set with optimised hyperparameters\n",
    "print(\"F1 score\", f1_score(Y_test, Y_test_pred))"
   ]
  },
  {
   "cell_type": "code",
   "execution_count": 60,
   "metadata": {},
   "outputs": [
    {
     "data": {
      "text/plain": [
       "True"
      ]
     },
     "execution_count": 60,
     "metadata": {},
     "output_type": "execute_result"
    }
   ],
   "source": [
    "# just to check\n",
    "precision = tp/(tp+fp)\n",
    "recall = tp/(tp+fn)\n",
    "2*precision*recall/(precision+recall) == f1_score(Y_test, Y_test_pred)"
   ]
  },
  {
   "cell_type": "code",
   "execution_count": 67,
   "metadata": {},
   "outputs": [
    {
     "name": "stdout",
     "output_type": "stream",
     "text": [
      "   direc: array([[1.        , 0.        ],\n",
      "       [0.09323149, 0.01141927]])\n",
      "     fun: -0.1626183635599686\n",
      " message: 'Optimization terminated successfully.'\n",
      "    nfev: 156\n",
      "     nit: 3\n",
      "  status: 0\n",
      " success: True\n",
      "       x: array([3.81724847, 0.6505127 ])\n"
     ]
    },
    {
     "data": {
      "text/plain": [
       "datetime.timedelta(seconds=299, microseconds=86581)"
      ]
     },
     "execution_count": 67,
     "metadata": {},
     "output_type": "execute_result"
    }
   ],
   "source": [
    "#this cell takes about 4 minutes to compute\n",
    "#maximise the _modified_ F1 score over C and thresholds hyperparameters\n",
    "Y_cross_val_series = pd.Series(list(Y_cross_val))\n",
    "bnds1 = ((0, None), (0 , 1)) # ( (1/lambda bounds) , (threshold bounds) )\n",
    "res1 = optimize.minimize(f1_score_neg_mod_th, (1, 0.5), bounds=bnds1, method='Powell')\n",
    "print(res1)"
   ]
  },
  {
   "cell_type": "code",
   "execution_count": 62,
   "metadata": {},
   "outputs": [],
   "source": [
    "#regularisation parameter C = lambda^(-1) with new optimisation\n",
    "lambda_inv1 = res1.x[0]"
   ]
  },
  {
   "cell_type": "code",
   "execution_count": 63,
   "metadata": {},
   "outputs": [],
   "source": [
    "#threshold with new optimisation\n",
    "threshold1 = res1.x[1]"
   ]
  },
  {
   "cell_type": "code",
   "execution_count": 64,
   "metadata": {},
   "outputs": [],
   "source": [
    "#test the model with new optimised hyperparameters\n",
    "model = LogisticRegression(class_weight=\"balanced\", C=lambda_inv1)\n",
    "model.fit(X_test, Y_test)\n",
    "Y_test_pred1 = predicted_y_with_threshold(model, X_test, threshold1)"
   ]
  },
  {
   "cell_type": "code",
   "execution_count": 65,
   "metadata": {},
   "outputs": [
    {
     "name": "stdout",
     "output_type": "stream",
     "text": [
      "Model performance with new optimised hyperparameters\n",
      "----------------------------------------------------\n",
      "percentage of true positive 0.8152576708335392\n",
      "percentage of false positive 4.938485103018924\n",
      "percentage of false negative 0.36810119077029496\n",
      "percentage of true negative 93.87815603537724\n",
      "----------------------------------------------------\n",
      "number of true positive 330\n",
      "number of false positive 1999\n",
      "number of false negative 149\n",
      "number of true negative 38000\n",
      "----------------------------------------------------\n",
      "F1 score 0.23504273504273507\n"
     ]
    }
   ],
   "source": [
    "Y_test_pred_series1 = pd.Series(list(Y_test_pred1))\n",
    "\n",
    "print(\"Model performance with new optimised hyperparameters\")\n",
    "print(\"----------------------------------------------------\")\n",
    "#percentage of true positive\n",
    "tp = ((Y_test_pred_series1 == 1) & (Y_test_series == 1)).sum() \n",
    "print(\"percentage of true positive\", 100*tp/len(Y_test_series))\n",
    "#percentage of false positive\n",
    "fp = ((Y_test_pred_series1 == 1) & (Y_test_series == 0)).sum()\n",
    "print(\"percentage of false positive\", 100*fp/len(Y_test_series))\n",
    "#percentage of false negative\n",
    "fn = ((Y_test_pred_series1 == 0) & (Y_test_series == 1)).sum() \n",
    "print(\"percentage of false negative\", 100*fn/len(Y_test_series))\n",
    "#percentage of true negative\n",
    "tn = ((Y_test_pred_series1 == 0) & (Y_test_series == 0)).sum() \n",
    "print(\"percentage of true negative\", 100*tn/len(Y_test_series))\n",
    "print(\"----------------------------------------------------\")\n",
    "print(\"number of true positive\", tp)\n",
    "print(\"number of false positive\", fp)\n",
    "print(\"number of false negative\", fn)\n",
    "print(\"number of true negative\", tn)\n",
    "print(\"----------------------------------------------------\")\n",
    "#F1 score for the test set\n",
    "print(\"F1 score\", f1_score(Y_test, Y_test_pred1))"
   ]
  },
  {
   "cell_type": "raw",
   "metadata": {},
   "source": [
    "#TODO add new features\n",
    "#calculate the number of occurrences of \n",
    "# Merchant_Id\n",
    "# Price\n",
    "# ChannelType\n",
    "# Alpha2Code\n",
    "# GeoIpCountry\n",
    "# GeoIpNotEqAlpha2\n",
    "# UserAgent\n",
    "# FirstTransactionWithoutEmail\n",
    "# Flag\n",
    "# PaymentChannel\n",
    "# ItemName\n",
    "# eg\n",
    "data.insert(2, \"Merchant_Id_occurrences\", hash_to_occurrences(data, \"Merchant_Id\") )\n",
    "\n",
    "#TODO for all features, except the ones above, add a column to report the outliers (1 if el is outliers 0 if not) eg\n",
    "\n",
    "data_copy = data.copy()\n",
    "added_cols_num = 0\n",
    "\n",
    "for idx, col in enumerate(data_copy.columns):\n",
    "    min = data[col].quantile(0.01)\n",
    "    max = data[col].quantile(0.99)\n",
    "    \n",
    "    if ((data[col] < min) | (data[col] > max )).any():\n",
    "        header = \"_\".join([col,\"outlier\"])\n",
    "        vals = ( (data[col] < min) | (data[col] > max ) ).astype(int)\n",
    "        data.insert(idx+added_cols_num+1, header, vals )\n",
    "        added_cols_num += 1\n",
    "        \n",
    "        print(header)\n",
    "        \n",
    "del data_copy\n",
    "print(added_cols_num, \"feature(s) added.\")\n",
    "\n",
    "\n",
    "\n",
    "        \n",
    "%for each user calculate the historical mean of the prices. For each entry calculate the difference between the current price and the mean, over the std dev\n",
    "\n",
    "dic_UserId_mean_price = (data.groupby(\"User_Id\").mean().Price).to_dict()\n",
    "\n",
    "data[\"Test_mean_price\"] = data[\"User_Id\"].map(dic_UserId_mean_price, na_action=\"ignore\")\n",
    "\n",
    "dic_UserId_std_dev = (data.groupby(\"User_Id\").std().Price).to_dict()\n",
    "\n",
    "data[\"Test_std_dev_price\"] = data[\"User_Id\"].map(dic_UserId_std_dev, na_action=\"ignore\")\n",
    "\n",
    "data[\"Test_dist_from_mean\"] = (data.Price-data.Test_mean_price)/data.Test_std_dev_price"
   ]
  }
 ],
 "metadata": {
  "kernelspec": {
   "display_name": "Python 3 (ipykernel)",
   "language": "python",
   "name": "python3"
  },
  "language_info": {
   "codemirror_mode": {
    "name": "ipython",
    "version": 3
   },
   "file_extension": ".py",
   "mimetype": "text/x-python",
   "name": "python",
   "nbconvert_exporter": "python",
   "pygments_lexer": "ipython3",
   "version": "3.9.7"
  }
 },
 "nbformat": 4,
 "nbformat_minor": 4
}
